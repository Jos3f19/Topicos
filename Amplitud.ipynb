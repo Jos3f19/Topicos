{
  "nbformat": 4,
  "nbformat_minor": 0,
  "metadata": {
    "colab": {
      "provenance": [],
      "collapsed_sections": [],
      "include_colab_link": true
    },
    "kernelspec": {
      "name": "python3",
      "display_name": "Python 3"
    },
    "language_info": {
      "name": "python"
    }
  },
  "cells": [
    {
      "cell_type": "markdown",
      "metadata": {
        "id": "view-in-github",
        "colab_type": "text"
      },
      "source": [
        "<a href=\"https://colab.research.google.com/github/Jos3f19/Topicos/blob/main/Amplitud.ipynb\" target=\"_parent\"><img src=\"https://colab.research.google.com/assets/colab-badge.svg\" alt=\"Open In Colab\"/></a>"
      ]
    },
    {
      "cell_type": "code",
      "execution_count": 1,
      "metadata": {
        "colab": {
          "base_uri": "https://localhost:8080/"
        },
        "id": "y_fMcqp03BTj",
        "outputId": "1f6aa518-8cc2-44cc-9b54-23dd47f8c288"
      },
      "outputs": [
        {
          "output_type": "stream",
          "name": "stdout",
          "text": [
            "\n",
            "['Medellin', 'Apartado', 'Taraza', 'Planeta Rica', 'Turbo', 'Caucasia', 'Sincelejo', 'Arboletes', 'Monteria', 'Coveñas']\n"
          ]
        }
      ],
      "source": [
        "# Amplitud\n",
        "\n",
        "from collections import defaultdict\n",
        "\n",
        "''' Grafo'''\n",
        "def generateAdjacencyLst(edges):\n",
        "    adjacencyList = defaultdict(list)\n",
        "    for u, v in edges:\n",
        "        adjacencyList[u].append(v)\n",
        "        adjacencyList[v].append(u)\n",
        "    return adjacencyList\n",
        "\n",
        "\n",
        "edges = [[\"Medellin\", \"Apartado\"], [\"Medellin\", \"Taraza\"], [\"Medellin\", \"Planeta Rica\"], [\"Apartado\", \"Turbo\"],\n",
        "         [\"Taraza\", \"Caucasia\"], [\"Planeta Rica\", \"Sincelejo\"], [\n",
        "             \"Turbo\", \"Arboletes\"], [\"Caucasia\", \"Monteria\"],\n",
        "         [\"Sincelejo\", \"Coveñas\"], [\"Arboletes\", \"Coveñas\"], [\"Monteria\", \"Coveñas\"]]\n",
        "adjacencyList = generateAdjacencyLst(edges)\n",
        "\n",
        "''' Nodo a buscar'''\n",
        "valueToFind = \"Coveñas\"\n",
        "\n",
        "def bfs(adjacencyList, vertex):\n",
        "    visitedSet = set()\n",
        "    queue = []\n",
        "    visitedSet.add(vertex)\n",
        "    queue.append(vertex)\n",
        "\n",
        "    result = []\n",
        "    while queue:\n",
        "        v = queue[0]\n",
        "        result.append(v)\n",
        "        queue = queue[1:]\n",
        "        for neighbor in adjacencyList[v]:\n",
        "            if neighbor not in visitedSet:\n",
        "                visitedSet.add(neighbor)\n",
        "                queue.append(neighbor)\n",
        "        if v == valueToFind:\n",
        "            break\n",
        "    print(\"\")\n",
        "    return result\n",
        "\n",
        "print(bfs(adjacencyList, \"Medellin\"))"
      ]
    }
  ]
}