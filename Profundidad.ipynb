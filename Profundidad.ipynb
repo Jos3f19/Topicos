{
  "nbformat": 4,
  "nbformat_minor": 0,
  "metadata": {
    "colab": {
      "provenance": [],
      "authorship_tag": "ABX9TyPwSC1pSUf6mNp6yawrYw0/",
      "include_colab_link": true
    },
    "kernelspec": {
      "name": "python3",
      "display_name": "Python 3"
    },
    "language_info": {
      "name": "python"
    }
  },
  "cells": [
    {
      "cell_type": "markdown",
      "metadata": {
        "id": "view-in-github",
        "colab_type": "text"
      },
      "source": [
        "<a href=\"https://colab.research.google.com/github/Jos3f19/Topicos/blob/main/Profundidad.ipynb\" target=\"_parent\"><img src=\"https://colab.research.google.com/assets/colab-badge.svg\" alt=\"Open In Colab\"/></a>"
      ]
    },
    {
      "cell_type": "code",
      "execution_count": null,
      "metadata": {
        "colab": {
          "base_uri": "https://localhost:8080/"
        },
        "id": "0aN7GTU5bATH",
        "outputId": "a96b3410-adf1-4937-f400-87e623df087e"
      },
      "outputs": [
        {
          "output_type": "stream",
          "name": "stdout",
          "text": [
            "['Medellin', 'Taraza', 'Caucasia', 'Monteria', 'Coveñas']\n"
          ]
        }
      ],
      "source": [
        "# Profundidad\n",
        "\n",
        "values = {\n",
        "\n",
        "    \"Apartado\": \"Medellin\",\n",
        "    \"Taraza\": \"Medellin\",\n",
        "    \"Planeta Rica\": \"Medellin\",\n",
        "    \"Turbo\": \"Apartado\",\n",
        "    \"Caucasia\": \"Taraza\",\n",
        "    \"Sincelejo\": \"Planeta Rica\",\n",
        "    \"Arboletes\": \"Turbo\",\n",
        "    \"Monteria\": \"Caucasia\",\n",
        "    \"Coveñas\": \"Sincelejo\",\n",
        "    \"Coveñas\": \"Arboletes\",\n",
        "    \"Coveñas\": \"Monteria\",\n",
        "}\n",
        "\n",
        "path = []\n",
        "\n",
        "def search(start, valueToFind):\n",
        "    path.append(start)\n",
        "    \n",
        "    if start == valueToFind:\n",
        "        return valueToFind\n",
        "    \n",
        "    for k, v in values.items():\n",
        "        result = 0\n",
        "        \n",
        "        if v == start:            \n",
        "            result = search(k, valueToFind)\n",
        "        \n",
        "        if result:\n",
        "            return result\n",
        "\n",
        "    path.pop()\n",
        "    \n",
        "    return 0\n",
        "\n",
        "\n",
        "result = search(\"Medellin\", \"Coveñas\")\n",
        "if result:\n",
        "    print(path)\n",
        "else:\n",
        "    print(\"No existe\")"
      ]
    }
  ]
}